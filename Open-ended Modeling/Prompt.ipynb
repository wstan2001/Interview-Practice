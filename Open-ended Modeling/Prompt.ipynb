{
 "cells": [
  {
   "cell_type": "markdown",
   "id": "e2e238fe",
   "metadata": {},
   "source": [
    "# Setup"
   ]
  },
  {
   "cell_type": "markdown",
   "id": "315d686d",
   "metadata": {},
   "source": [
    "Please perform any necessary imports here and load in the dataset."
   ]
  },
  {
   "cell_type": "code",
   "execution_count": 1,
   "id": "11d52b1a",
   "metadata": {},
   "outputs": [],
   "source": [
    "DATA_PATH = \"housing.csv\""
   ]
  },
  {
   "cell_type": "markdown",
   "id": "5414b21b",
   "metadata": {},
   "source": [
    "# Initial Exploration"
   ]
  },
  {
   "cell_type": "markdown",
   "id": "376cf36e",
   "metadata": {},
   "source": [
    "Get your hands dirty and play around with the data!\n",
    "\n",
    "What do you think are some interesting aspects to look at?"
   ]
  },
  {
   "cell_type": "markdown",
   "id": "7bc3603c",
   "metadata": {},
   "source": [
    "# Predict Housing Prices"
   ]
  },
  {
   "cell_type": "markdown",
   "id": "79323c92",
   "metadata": {},
   "source": [
    "Please construct a model to predict the quantity \"median_house_value.\" Some guiding questions:\n",
    "\n",
    "* What kind of model will you use? Why? What are the advantages and disadvantages of using this model?\n",
    "     * for a first pass I suggest trying out a very basic model; linear regression is fine\n",
    "* How will you decide which features to use for your model?\n",
    "* How will you evaluate your model's performance?"
   ]
  },
  {
   "cell_type": "markdown",
   "id": "7a0d85b5",
   "metadata": {},
   "source": [
    "Other questions:\n",
    "\n",
    "* Did you end up including both total_rooms and total_bedrooms in a linear model? Is a reason you might hesitate a little bit before using both these features?"
   ]
  }
 ],
 "metadata": {
  "kernelspec": {
   "display_name": "Python 3 (ipykernel)",
   "language": "python",
   "name": "python3"
  },
  "language_info": {
   "codemirror_mode": {
    "name": "ipython",
    "version": 3
   },
   "file_extension": ".py",
   "mimetype": "text/x-python",
   "name": "python",
   "nbconvert_exporter": "python",
   "pygments_lexer": "ipython3",
   "version": "3.9.12"
  }
 },
 "nbformat": 4,
 "nbformat_minor": 5
}
